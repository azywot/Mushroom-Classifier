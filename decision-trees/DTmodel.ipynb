{
 "cells": [
  {
   "cell_type": "markdown",
   "metadata": {},
   "source": [
    "## Decision Trees"
   ]
  },
  {
   "cell_type": "code",
   "execution_count": 1,
   "metadata": {},
   "outputs": [],
   "source": [
    "import pandas as pd\n",
    "import numpy as np\n",
    "\n",
    "import scipy.stats as stats\n",
    "from sklearn.model_selection import cross_val_score, cross_validate, train_test_split, RepeatedStratifiedKFold\n",
    "from sklearn.tree import DecisionTreeClassifier\n",
    "from sklearn import metrics\n",
    "from sklearn.ensemble import RandomForestClassifier\n",
    "from sklearn.ensemble import AdaBoostClassifier\n",
    "# from xgboost import XGBClassifier\n",
    "\n",
    "from matplotlib import pyplot as plt\n",
    "from sklearn.metrics import confusion_matrix, classification_report, f1_score, accuracy_score\n",
    "\n",
    "from numeric import get_numeric_df\n",
    "from sklearn import tree"
   ]
  },
  {
   "cell_type": "code",
   "execution_count": 2,
   "metadata": {},
   "outputs": [
    {
     "data": {
      "text/html": [
       "<div>\n",
       "<style scoped>\n",
       "    .dataframe tbody tr th:only-of-type {\n",
       "        vertical-align: middle;\n",
       "    }\n",
       "\n",
       "    .dataframe tbody tr th {\n",
       "        vertical-align: top;\n",
       "    }\n",
       "\n",
       "    .dataframe thead th {\n",
       "        text-align: right;\n",
       "    }\n",
       "</style>\n",
       "<table border=\"1\" class=\"dataframe\">\n",
       "  <thead>\n",
       "    <tr style=\"text-align: right;\">\n",
       "      <th></th>\n",
       "      <th>Month</th>\n",
       "      <th>WeekOfMonth</th>\n",
       "      <th>DayOfWeek</th>\n",
       "      <th>AccidentArea</th>\n",
       "      <th>DayOfWeekClaimed</th>\n",
       "      <th>MonthClaimed</th>\n",
       "      <th>WeekOfMonthClaimed</th>\n",
       "      <th>Sex</th>\n",
       "      <th>Age</th>\n",
       "      <th>Fault</th>\n",
       "      <th>...</th>\n",
       "      <th>MaritalStatus_Divorced</th>\n",
       "      <th>MaritalStatus_Married</th>\n",
       "      <th>MaritalStatus_Single</th>\n",
       "      <th>MaritalStatus_Widow</th>\n",
       "      <th>VehicleCategory_Sedan</th>\n",
       "      <th>VehicleCategory_Sport</th>\n",
       "      <th>VehicleCategory_Utility</th>\n",
       "      <th>BasePolicy_All Perils</th>\n",
       "      <th>BasePolicy_Collision</th>\n",
       "      <th>BasePolicy_Liability</th>\n",
       "    </tr>\n",
       "  </thead>\n",
       "  <tbody>\n",
       "    <tr>\n",
       "      <th>0</th>\n",
       "      <td>11</td>\n",
       "      <td>5</td>\n",
       "      <td>2</td>\n",
       "      <td>0</td>\n",
       "      <td>1</td>\n",
       "      <td>0</td>\n",
       "      <td>1</td>\n",
       "      <td>0</td>\n",
       "      <td>21.0</td>\n",
       "      <td>1</td>\n",
       "      <td>...</td>\n",
       "      <td>0</td>\n",
       "      <td>0</td>\n",
       "      <td>1</td>\n",
       "      <td>0</td>\n",
       "      <td>0</td>\n",
       "      <td>1</td>\n",
       "      <td>0</td>\n",
       "      <td>0</td>\n",
       "      <td>0</td>\n",
       "      <td>1</td>\n",
       "    </tr>\n",
       "    <tr>\n",
       "      <th>1</th>\n",
       "      <td>0</td>\n",
       "      <td>3</td>\n",
       "      <td>2</td>\n",
       "      <td>0</td>\n",
       "      <td>0</td>\n",
       "      <td>0</td>\n",
       "      <td>4</td>\n",
       "      <td>1</td>\n",
       "      <td>34.0</td>\n",
       "      <td>1</td>\n",
       "      <td>...</td>\n",
       "      <td>0</td>\n",
       "      <td>0</td>\n",
       "      <td>1</td>\n",
       "      <td>0</td>\n",
       "      <td>0</td>\n",
       "      <td>1</td>\n",
       "      <td>0</td>\n",
       "      <td>0</td>\n",
       "      <td>1</td>\n",
       "      <td>0</td>\n",
       "    </tr>\n",
       "    <tr>\n",
       "      <th>2</th>\n",
       "      <td>9</td>\n",
       "      <td>5</td>\n",
       "      <td>4</td>\n",
       "      <td>0</td>\n",
       "      <td>3</td>\n",
       "      <td>10</td>\n",
       "      <td>2</td>\n",
       "      <td>1</td>\n",
       "      <td>47.0</td>\n",
       "      <td>1</td>\n",
       "      <td>...</td>\n",
       "      <td>0</td>\n",
       "      <td>1</td>\n",
       "      <td>0</td>\n",
       "      <td>0</td>\n",
       "      <td>0</td>\n",
       "      <td>1</td>\n",
       "      <td>0</td>\n",
       "      <td>0</td>\n",
       "      <td>1</td>\n",
       "      <td>0</td>\n",
       "    </tr>\n",
       "    <tr>\n",
       "      <th>3</th>\n",
       "      <td>5</td>\n",
       "      <td>2</td>\n",
       "      <td>5</td>\n",
       "      <td>0</td>\n",
       "      <td>4</td>\n",
       "      <td>6</td>\n",
       "      <td>1</td>\n",
       "      <td>1</td>\n",
       "      <td>65.0</td>\n",
       "      <td>0</td>\n",
       "      <td>...</td>\n",
       "      <td>0</td>\n",
       "      <td>1</td>\n",
       "      <td>0</td>\n",
       "      <td>0</td>\n",
       "      <td>0</td>\n",
       "      <td>1</td>\n",
       "      <td>0</td>\n",
       "      <td>0</td>\n",
       "      <td>0</td>\n",
       "      <td>1</td>\n",
       "    </tr>\n",
       "    <tr>\n",
       "      <th>4</th>\n",
       "      <td>0</td>\n",
       "      <td>5</td>\n",
       "      <td>0</td>\n",
       "      <td>0</td>\n",
       "      <td>1</td>\n",
       "      <td>1</td>\n",
       "      <td>2</td>\n",
       "      <td>0</td>\n",
       "      <td>27.0</td>\n",
       "      <td>0</td>\n",
       "      <td>...</td>\n",
       "      <td>0</td>\n",
       "      <td>0</td>\n",
       "      <td>1</td>\n",
       "      <td>0</td>\n",
       "      <td>0</td>\n",
       "      <td>1</td>\n",
       "      <td>0</td>\n",
       "      <td>0</td>\n",
       "      <td>1</td>\n",
       "      <td>0</td>\n",
       "    </tr>\n",
       "  </tbody>\n",
       "</table>\n",
       "<p>5 rows × 56 columns</p>\n",
       "</div>"
      ],
      "text/plain": [
       "   Month  WeekOfMonth  DayOfWeek  AccidentArea  DayOfWeekClaimed  \\\n",
       "0     11            5          2             0                 1   \n",
       "1      0            3          2             0                 0   \n",
       "2      9            5          4             0                 3   \n",
       "3      5            2          5             0                 4   \n",
       "4      0            5          0             0                 1   \n",
       "\n",
       "   MonthClaimed  WeekOfMonthClaimed  Sex   Age  Fault  ...  \\\n",
       "0             0                   1    0  21.0      1  ...   \n",
       "1             0                   4    1  34.0      1  ...   \n",
       "2            10                   2    1  47.0      1  ...   \n",
       "3             6                   1    1  65.0      0  ...   \n",
       "4             1                   2    0  27.0      0  ...   \n",
       "\n",
       "   MaritalStatus_Divorced  MaritalStatus_Married  MaritalStatus_Single  \\\n",
       "0                       0                      0                     1   \n",
       "1                       0                      0                     1   \n",
       "2                       0                      1                     0   \n",
       "3                       0                      1                     0   \n",
       "4                       0                      0                     1   \n",
       "\n",
       "   MaritalStatus_Widow  VehicleCategory_Sedan  VehicleCategory_Sport  \\\n",
       "0                    0                      0                      1   \n",
       "1                    0                      0                      1   \n",
       "2                    0                      0                      1   \n",
       "3                    0                      0                      1   \n",
       "4                    0                      0                      1   \n",
       "\n",
       "   VehicleCategory_Utility  BasePolicy_All Perils  BasePolicy_Collision  \\\n",
       "0                        0                      0                     0   \n",
       "1                        0                      0                     1   \n",
       "2                        0                      0                     1   \n",
       "3                        0                      0                     0   \n",
       "4                        0                      0                     1   \n",
       "\n",
       "   BasePolicy_Liability  \n",
       "0                     1  \n",
       "1                     0  \n",
       "2                     0  \n",
       "3                     1  \n",
       "4                     0  \n",
       "\n",
       "[5 rows x 56 columns]"
      ]
     },
     "execution_count": 2,
     "metadata": {},
     "output_type": "execute_result"
    }
   ],
   "source": [
    "original_df = pd.read_csv(\"..\\\\Dataset\\\\preprocessed_data\\\\fraud_oracle_preprocessed_drop.csv\")\n",
    "df = get_numeric_df(original_df)\n",
    "df.head()\n"
   ]
  },
  {
   "cell_type": "code",
   "execution_count": 5,
   "metadata": {},
   "outputs": [
    {
     "name": "stdout",
     "output_type": "stream",
     "text": [
      "56\n"
     ]
    }
   ],
   "source": [
    "print(len(df.columns))"
   ]
  },
  {
   "cell_type": "code",
   "execution_count": 6,
   "metadata": {},
   "outputs": [],
   "source": [
    "def get_stats(classifier, X, Y, k = 10):\n",
    "    out = dict()\n",
    "    res = cross_validate(clf_DTmodel, X, Y, cv=k, scoring=['accuracy', 'precision','recall'])\n",
    "    for score in res:\n",
    "        out[score] = np.mean(res[score])\n",
    "    return out\n"
   ]
  },
  {
   "cell_type": "code",
   "execution_count": 25,
   "metadata": {},
   "outputs": [],
   "source": [
    "# X, Y -> explanatory/resopnse variable split\n",
    "X = df.drop('FraudFound_P',axis=1).copy()\n",
    "Y = df['FraudFound_P'].copy()"
   ]
  },
  {
   "cell_type": "markdown",
   "metadata": {},
   "source": [
    "### Basic Decision Tree"
   ]
  },
  {
   "cell_type": "code",
   "execution_count": 8,
   "metadata": {},
   "outputs": [
    {
     "name": "stdout",
     "output_type": "stream",
     "text": [
      "fit_time: 0.1308499574661255\n",
      "score_time: 0.006885170936584473\n",
      "test_accuracy: 0.8944814920491435\n",
      "test_precision: 0.1286322804969547\n",
      "test_recall: 0.13114773258532023\n"
     ]
    }
   ],
   "source": [
    "# Basic DT\n",
    "clf_DTmodel = DecisionTreeClassifier(random_state=0)\n",
    "results = get_stats(clf_DTmodel, X, Y)\n",
    "for r in results:\n",
    "    print(f'{r}: {results[r]}')"
   ]
  },
  {
   "cell_type": "code",
   "execution_count": 26,
   "metadata": {},
   "outputs": [
    {
     "name": "stderr",
     "output_type": "stream",
     "text": [
      "c:\\Users\\agata\\anaconda3\\envs\\data-mining2\\lib\\site-packages\\sklearn\\utils\\deprecation.py:87: FutureWarning: Function plot_confusion_matrix is deprecated; Function `plot_confusion_matrix` is deprecated in 1.0 and will be removed in 1.2. Use one of the class methods: ConfusionMatrixDisplay.from_predictions or ConfusionMatrixDisplay.from_estimator.\n",
      "  warnings.warn(msg, category=FutureWarning)\n"
     ]
    },
    {
     "data": {
      "text/plain": [
       "<sklearn.metrics._plot.confusion_matrix.ConfusionMatrixDisplay at 0x1e58695af20>"
      ]
     },
     "execution_count": 26,
     "metadata": {},
     "output_type": "execute_result"
    },
    {
     "data": {
      "image/png": "[encoded data removed]",
      "text/plain": [
       "<Figure size 504x504 with 2 Axes>"
      ]
     },
     "metadata": {
      "needs_background": "light"
     },
     "output_type": "display_data"
    }
   ],
   "source": [
    "x_train,x_test,y_train,y_test = train_test_split(X, Y, stratify=Y,test_size = 0.2, random_state=0)\n",
    "clf_DTmodel.fit(x_train,y_train)\n",
    "y_pred_gini_unpruned = clf_DTmodel.predict(x_test)\n",
    "\n",
    "fig, (ax1) = plt.subplots(figsize=(7, 7))\n",
    "metrics.plot_confusion_matrix(clf_DTmodel, x_test, y_test, ax=ax1)"
   ]
  },
  {
   "cell_type": "code",
   "execution_count": 175,
   "metadata": {},
   "outputs": [],
   "source": [
    "# different depth\n",
    "accuracy = []\n",
    "precision = []\n",
    "recall = []\n",
    "for d in range(1,21):\n",
    "    clf_DTmodel = DecisionTreeClassifier(random_state=42, max_depth=d)\n",
    "    results = get_stats(clf_DTmodel, X, Y)\n",
    "    precision.append(results['test_precision'])\n",
    "    recall.append(results['test_recall'])\n",
    "    accuracy.append(results['test_accuracy'])\n",
    "\n",
    "x = range(1,21)\n",
    "\n",
    "figure, axis = plt.subplots(1, 3, figsize=(25,5))\n",
    "axis[0].plot(x, accuracy, marker='o')\n",
    "axis[0].set_title(\"Accuracy\")\n",
    "\n",
    "axis[1].plot(x, precision, marker='o')\n",
    "axis[1].set_title(\"Precision\")\n",
    "\n",
    "axis[2].plot(x, recall, marker='o')\n",
    "axis[2].set_title(\"Recall\")"
   ]
  },
  {
   "cell_type": "code",
   "execution_count": 177,
   "metadata": {},
   "outputs": [],
   "source": [
    "accuracy = []\n",
    "precision = []\n",
    "recall = []\n",
    "# ccp_alpha\n",
    "cc = [0, 0.1, 0.2, 0.3, 0.4, 0.5, 0.6, 0.7, 0.8, 0.9, 1]\n",
    "for c in cc:\n",
    "    clf_DTmodel = DecisionTreeClassifier(random_state=42, ccp_alpha = c)\n",
    "    results = get_stats(clf_DTmodel, X, Y)\n",
    "    precision.append(results['test_precision'])\n",
    "    recall.append(results['test_recall'])\n",
    "    accuracy.append(results['test_accuracy'])\n",
    "\n",
    "figure, axis = plt.subplots(1, 3, figsize=(25,5))\n",
    "axis[0].plot(cc, accuracy, marker='o')\n",
    "axis[0].set_title(\"Accuracy\")\n",
    "\n",
    "axis[1].plot(cc, precision, marker='o')\n",
    "axis[1].set_title(\"Precision\")\n",
    "\n",
    "axis[2].plot(cc, recall, marker='o')\n",
    "axis[2].set_title(\"Recall\")"
   ]
  },
  {
   "cell_type": "code",
   "execution_count": 63,
   "metadata": {},
   "outputs": [
    {
     "name": "stdout",
     "output_type": "stream",
     "text": [
      "CCP alpha: 0.2\n",
      "fit_time: 0.10023105144500732\n",
      "score_time: 0.014362716674804687\n",
      "test_accuracy: 0.8944814920491435\n",
      "test_balanced_accuracy: 0.537118593928842\n",
      "test_precision: 0.1286322804969547\n",
      "test_recall: 0.13114773258532023\n",
      "test_roc_auc: 0.5371185939288421\n",
      "\n",
      "CCP alpha: 0.4\n",
      "fit_time: 0.0957535982131958\n",
      "score_time: 0.00966796875\n",
      "test_accuracy: 0.8944814920491435\n",
      "test_balanced_accuracy: 0.537118593928842\n",
      "test_precision: 0.1286322804969547\n",
      "test_recall: 0.13114773258532023\n",
      "test_roc_auc: 0.5371185939288421\n",
      "\n",
      "CCP alpha: 0.5\n",
      "fit_time: 0.09784152507781982\n",
      "score_time: 0.010267281532287597\n",
      "test_accuracy: 0.8944814920491435\n",
      "test_balanced_accuracy: 0.537118593928842\n",
      "test_precision: 0.1286322804969547\n",
      "test_recall: 0.13114773258532023\n",
      "test_roc_auc: 0.5371185939288421\n",
      "\n",
      "CCP alpha: 0.8\n",
      "fit_time: 0.09784810543060303\n",
      "score_time: 0.01026294231414795\n",
      "test_accuracy: 0.8944814920491435\n",
      "test_balanced_accuracy: 0.537118593928842\n",
      "test_precision: 0.1286322804969547\n",
      "test_recall: 0.13114773258532023\n",
      "test_roc_auc: 0.5371185939288421\n",
      "\n"
     ]
    }
   ],
   "source": [
    "# Compare different pruning levels\n",
    "ccp_alphas = [0.2, 0.4, 0.5, 0.8]\n",
    "for a in ccp_alphas:\n",
    "    print(f'CCP alpha: {a}')\n",
    "    results = get_stats(clf_DTmodel, X, Y)\n",
    "    for r in results:\n",
    "        print(f'{r}: {results[r]}')\n",
    "    print()"
   ]
  },
  {
   "cell_type": "markdown",
   "metadata": {},
   "source": [
    "### Other classifiers"
   ]
  },
  {
   "cell_type": "markdown",
   "metadata": {},
   "source": [
    "### Oversampling"
   ]
  },
  {
   "cell_type": "code",
   "execution_count": 27,
   "metadata": {},
   "outputs": [],
   "source": [
    "from imblearn.over_sampling import SMOTE\n",
    "sm = SMOTE(random_state=42)"
   ]
  },
  {
   "cell_type": "code",
   "execution_count": 28,
   "metadata": {},
   "outputs": [
    {
     "name": "stdout",
     "output_type": "stream",
     "text": [
      "0    11597\n",
      "1      738\n",
      "Name: FraudFound_P, dtype: int64\n",
      "1    11597\n",
      "0    11597\n",
      "Name: FraudFound_P, dtype: int64\n"
     ]
    }
   ],
   "source": [
    "x_train_res, y_train_res = sm.fit_resample(x_train, y_train)\n",
    "# X_res, Y_res = sm.fit_resample(X, Y)\n",
    "print(y_train.value_counts())\n",
    "print(y_train_res.value_counts())"
   ]
  },
  {
   "cell_type": "code",
   "execution_count": 56,
   "metadata": {},
   "outputs": [
    {
     "name": "stdout",
     "output_type": "stream",
     "text": [
      "fit_time: 0.14478724002838134\n",
      "score_time: 0.005928254127502442\n",
      "test_accuracy: 0.9377484349675097\n",
      "test_precision: 0.9294471413522836\n",
      "test_recall: 0.9476711493261133\n"
     ]
    }
   ],
   "source": [
    "clf_DTmodel = DecisionTreeClassifier(random_state=0)\n",
    "results = get_stats(clf_DTmodel, x_train_res, y_train_res)\n",
    "for r in results:\n",
    "    print(f'{r}: {results[r]}')"
   ]
  },
  {
   "cell_type": "code",
   "execution_count": 57,
   "metadata": {},
   "outputs": [
    {
     "name": "stderr",
     "output_type": "stream",
     "text": [
      "c:\\Users\\agata\\anaconda3\\envs\\data-mining2\\lib\\site-packages\\sklearn\\utils\\deprecation.py:87: FutureWarning: Function plot_confusion_matrix is deprecated; Function `plot_confusion_matrix` is deprecated in 1.0 and will be removed in 1.2. Use one of the class methods: ConfusionMatrixDisplay.from_predictions or ConfusionMatrixDisplay.from_estimator.\n",
      "  warnings.warn(msg, category=FutureWarning)\n"
     ]
    },
    {
     "data": {
      "text/plain": [
       "<sklearn.metrics._plot.confusion_matrix.ConfusionMatrixDisplay at 0x1e5887944f0>"
      ]
     },
     "execution_count": 57,
     "metadata": {},
     "output_type": "execute_result"
    },
    {
     "data": {
      "image/png": "[encoded data removed]",
      "text/plain": [
       "<Figure size 504x504 with 2 Axes>"
      ]
     },
     "metadata": {
      "needs_background": "light"
     },
     "output_type": "display_data"
    }
   ],
   "source": [
    "# x_train_res,x_test_res,y_train_res,y_test_res = train_test_split(X_res, Y_res, stratify=Y_res,test_size = 0.2, random_state=0)\n",
    "clf_DTmodel.fit(x_train_res,y_train_res)\n",
    "# y_pred_gini_unpruned = clf_DTmodel.predict(x_test)\n",
    "\n",
    "fig, (ax1) = plt.subplots(figsize=(7, 7))\n",
    "metrics.plot_confusion_matrix(clf_DTmodel, x_test, y_test, ax=ax1)"
   ]
  },
  {
   "cell_type": "code",
   "execution_count": null,
   "metadata": {},
   "outputs": [],
   "source": []
  }
 ],
 "metadata": {
  "interpreter": {
   "hash": "e1791ee0b1058438a9e4dd50940b13379ea2066324df602589e5ef71bcea17c7"
  },
  "kernelspec": {
   "display_name": "Python 3.10.2 ('data-mining2')",
   "language": "python",
   "name": "python3"
  },
  "language_info": {
   "codemirror_mode": {
    "name": "ipython",
    "version": 3
   },
   "file_extension": ".py",
   "mimetype": "text/x-python",
   "name": "python",
   "nbconvert_exporter": "python",
   "pygments_lexer": "ipython3",
   "version": "3.10.2"
  },
  "orig_nbformat": 4
 },
 "nbformat": 4,
 "nbformat_minor": 2
}
